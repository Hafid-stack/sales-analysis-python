{
 "cells": [
  {
   "cell_type": "code",
   "execution_count": 1,
   "id": "3787fcfc",
   "metadata": {},
   "outputs": [],
   "source": [
    "import pandas as pd\n"
   ]
  },
  {
   "cell_type": "code",
   "execution_count": 2,
   "id": "20210a9c",
   "metadata": {},
   "outputs": [
    {
     "name": "stdout",
     "output_type": "stream",
     "text": [
      "    OrderNumber  OrderDate  Ship Date  Customer Name Index      Channel  \\\n",
      "0   SO - 000225 2017-01-01 2017-01-13                   28    Wholesale   \n",
      "1  SO - 0003378 2017-01-01 2017-01-06                    7  Distributor   \n",
      "2  SO - 0003901 2017-01-01 2017-01-05                   12    Wholesale   \n",
      "3  SO - 0005126 2017-01-01 2017-01-17                    5    Wholesale   \n",
      "4  SO - 0005614 2017-01-01 2017-01-07                   27       Export   \n",
      "\n",
      "  Currency Code Warehouse Code  Delivery Region Index  \\\n",
      "0           NZD         AXW291                     71   \n",
      "1           NZD         AXW291                     54   \n",
      "2           NZD         AXW291                     58   \n",
      "3           USD         AXW291                     29   \n",
      "4           NZD         AXW291                     31   \n",
      "\n",
      "   Product Description Index  Order Quantity  Unit Selling Price  Unit Cost  \n",
      "0                         11               6              2499.1   1824.343  \n",
      "1                          7              11              2351.7   1269.918  \n",
      "2                         13               5              1728.6   1019.874  \n",
      "3                          7               6               978.2    684.740  \n",
      "4                          6               7              2338.3   1028.852  \n"
     ]
    }
   ],
   "source": [
    "# Read the Excel file into a DataFrame\n",
    "df = pd.read_excel(\"sales.xlsx\")\n",
    "\n",
    "# Display the first rows to verify\n",
    "print(df.head())\n"
   ]
  },
  {
   "cell_type": "code",
   "execution_count": 3,
   "id": "b86c0d78",
   "metadata": {},
   "outputs": [
    {
     "name": "stdout",
     "output_type": "stream",
     "text": [
      "Index(['OrderNumber', 'OrderDate', 'Ship Date', 'Customer Name Index',\n",
      "       'Channel', 'Currency Code', 'Warehouse Code', 'Delivery Region Index',\n",
      "       'Product Description Index', 'Order Quantity', 'Unit Selling Price',\n",
      "       'Unit Cost'],\n",
      "      dtype='object')\n",
      "<class 'pandas.core.frame.DataFrame'>\n",
      "RangeIndex: 7991 entries, 0 to 7990\n",
      "Data columns (total 12 columns):\n",
      " #   Column                     Non-Null Count  Dtype         \n",
      "---  ------                     --------------  -----         \n",
      " 0   OrderNumber                7991 non-null   object        \n",
      " 1   OrderDate                  7991 non-null   datetime64[ns]\n",
      " 2   Ship Date                  7991 non-null   datetime64[ns]\n",
      " 3   Customer Name Index        7991 non-null   int64         \n",
      " 4   Channel                    7991 non-null   object        \n",
      " 5   Currency Code              7991 non-null   object        \n",
      " 6   Warehouse Code             7991 non-null   object        \n",
      " 7   Delivery Region Index      7991 non-null   int64         \n",
      " 8   Product Description Index  7991 non-null   int64         \n",
      " 9   Order Quantity             7991 non-null   int64         \n",
      " 10  Unit Selling Price         7991 non-null   float64       \n",
      " 11  Unit Cost                  7991 non-null   float64       \n",
      "dtypes: datetime64[ns](2), float64(2), int64(4), object(4)\n",
      "memory usage: 749.3+ KB\n",
      "None\n"
     ]
    }
   ],
   "source": [
    "#Sanity check\n",
    "print(df.columns)  # Show column names\n",
    "print(df.info())   # Show data types and missing values\n"
   ]
  },
  {
   "cell_type": "code",
   "execution_count": 4,
   "id": "8326ee10",
   "metadata": {},
   "outputs": [
    {
     "name": "stdout",
     "output_type": "stream",
     "text": [
      "Number of exact duplicate rows: 0\n",
      "Number of duplicate OrderNumbers: 0\n"
     ]
    }
   ],
   "source": [
    "#Check duplicates\n",
    "# Check if any rows are exact duplicates\n",
    "duplicates_count = df.duplicated().sum()\n",
    "print(f\"Number of exact duplicate rows: {duplicates_count}\")\n",
    "\n",
    "# Check if OrderNumber itself has duplicates\n",
    "order_number_dupes = df['OrderNumber'].duplicated().sum()\n",
    "print(f\"Number of duplicate OrderNumbers: {order_number_dupes}\")\n"
   ]
  },
  {
   "cell_type": "code",
   "execution_count": 5,
   "id": "88e51343",
   "metadata": {},
   "outputs": [
    {
     "name": "stdout",
     "output_type": "stream",
     "text": [
      "Orders with zero or negative quantity: 0\n",
      "Orders with selling price less than cost: 0\n",
      "Orders with ship date before order date: 0\n"
     ]
    }
   ],
   "source": [
    "# Negative or zero quantities\n",
    "invalid_quantities = df[df['Order Quantity'] <= 0]\n",
    "print(f\"Orders with zero or negative quantity: {len(invalid_quantities)}\")\n",
    "\n",
    "# Selling price less than cost\n",
    "loss_sales = df[df['Unit Selling Price'] < df['Unit Cost']]\n",
    "print(f\"Orders with selling price less than cost: {len(loss_sales)}\")\n",
    "\n",
    "# Ship date earlier than order date\n",
    "date_issues = df[df['Ship Date'] < df['OrderDate']]\n",
    "print(f\"Orders with ship date before order date: {len(date_issues)}\")\n"
   ]
  },
  {
   "cell_type": "code",
   "execution_count": 6,
   "id": "b28afe4d",
   "metadata": {},
   "outputs": [
    {
     "name": "stdout",
     "output_type": "stream",
     "text": [
      "Unique currencies: ['NZD' 'USD' 'GBP' 'EUR' 'AUD']\n"
     ]
    }
   ],
   "source": [
    "#Checking for currency\n",
    "print(\"Unique currencies:\", df['Currency Code'].unique())\n"
   ]
  },
  {
   "cell_type": "code",
   "execution_count": 8,
   "id": "f6955475",
   "metadata": {},
   "outputs": [],
   "source": [
    "#For good practice even though we found no duplicates or missing values\n",
    "df = df.drop_duplicates()\n",
    "df = df.dropna()  # or use fillna() if you prefer imputing missing values\n"
   ]
  },
  {
   "cell_type": "code",
   "execution_count": null,
   "id": "cb9272a3",
   "metadata": {},
   "outputs": [],
   "source": [
    "#We run the calculations\n",
    "df['Total Sales'] = df['Order Quantity'] * df['Unit Selling Price']\n",
    "df['Total Cost'] = df['Order Quantity'] * df['Unit Cost']\n",
    "df['Profit'] = df['Total Sales'] - df['Total Cost']\n",
    "df['Margin (%)'] = (df['Profit'] / df['Total Sales']) * 100\n"
   ]
  },
  {
   "cell_type": "code",
   "execution_count": 10,
   "id": "11c0ce12",
   "metadata": {},
   "outputs": [],
   "source": [
    "#Saving the confirmed clean data\n",
    "df.to_excel(\"sales_cleaned.xlsx\", index=False)\n"
   ]
  },
  {
   "cell_type": "code",
   "execution_count": 11,
   "id": "c368731f",
   "metadata": {},
   "outputs": [
    {
     "name": "stdout",
     "output_type": "stream",
     "text": [
      "2017-01-01 00:00:00 2019-12-12 00:00:00\n"
     ]
    }
   ],
   "source": [
    "#getting min and max date\n",
    "min_date = df['OrderDate'].min()\n",
    "max_date = df['OrderDate'].max()\n",
    "\n",
    "print(min_date, max_date)\n"
   ]
  },
  {
   "cell_type": "code",
   "execution_count": 12,
   "id": "13d2bfd3",
   "metadata": {},
   "outputs": [],
   "source": [
    "#creating continus data range\n",
    "date_range = pd.date_range(start=min_date, end=max_date, freq='D')\n"
   ]
  },
  {
   "cell_type": "code",
   "execution_count": 13,
   "id": "4517c36e",
   "metadata": {},
   "outputs": [],
   "source": [
    "#building the tables\n",
    "date_df = pd.DataFrame({'Date': date_range})\n",
    "date_df['Year'] = date_df['Date'].dt.year\n",
    "date_df['Quarter'] = date_df['Date'].dt.quarter\n",
    "date_df['Month'] = date_df['Date'].dt.month\n",
    "date_df['Month Name'] = date_df['Date'].dt.strftime('%B')\n",
    "date_df['Day'] = date_df['Date'].dt.day\n",
    "date_df['Day of Week'] = date_df['Date'].dt.dayofweek\n",
    "date_df['Day Name'] = date_df['Date'].dt.strftime('%A')\n"
   ]
  },
  {
   "cell_type": "code",
   "execution_count": 14,
   "id": "2bf66ebc",
   "metadata": {},
   "outputs": [
    {
     "name": "stdout",
     "output_type": "stream",
     "text": [
      "True\n",
      "0\n",
      "        Date  Year  Quarter  Month Month Name  Day  Day of Week   Day Name\n",
      "0 2017-01-01  2017        1      1    January    1            6     Sunday\n",
      "1 2017-01-02  2017        1      1    January    2            0     Monday\n",
      "2 2017-01-03  2017        1      1    January    3            1    Tuesday\n",
      "3 2017-01-04  2017        1      1    January    4            2  Wednesday\n",
      "4 2017-01-05  2017        1      1    January    5            3   Thursday\n"
     ]
    }
   ],
   "source": [
    "#verification\n",
    "print(date_df['Date'].is_unique)        # Must be True\n",
    "print(date_df['Date'].isnull().sum())   # Must be 0\n",
    "print(date_df.head())\n"
   ]
  },
  {
   "cell_type": "code",
   "execution_count": 15,
   "id": "4f873652",
   "metadata": {},
   "outputs": [],
   "source": [
    "#Saving it for later use if needed\n",
    "date_df.to_excel(\"date_table.xlsx\", index=False)\n"
   ]
  },
  {
   "cell_type": "code",
   "execution_count": 16,
   "id": "b80c175f",
   "metadata": {},
   "outputs": [],
   "source": [
    "#Preparing data\n",
    "df['Year'] = df['OrderDate'].dt.year\n"
   ]
  },
  {
   "cell_type": "code",
   "execution_count": 17,
   "id": "d9ba3375",
   "metadata": {},
   "outputs": [],
   "source": [
    "#Total sales\n",
    "total_sales = df['Total Sales'].sum()\n"
   ]
  },
  {
   "cell_type": "code",
   "execution_count": 18,
   "id": "a0402661",
   "metadata": {},
   "outputs": [],
   "source": [
    "#Total sales previous year\n",
    "prev_year = df['Year'].max() - 1\n",
    "total_sales_py = df[df['Year'] == prev_year]['Total Sales'].sum()\n"
   ]
  },
  {
   "cell_type": "code",
   "execution_count": 19,
   "id": "2e9df847",
   "metadata": {},
   "outputs": [],
   "source": [
    "#Total sales between years\n",
    "total_sales_py_var = total_sales - total_sales_py\n"
   ]
  },
  {
   "cell_type": "code",
   "execution_count": 20,
   "id": "5aa8c2bd",
   "metadata": {},
   "outputs": [],
   "source": [
    "#Total sales per year percentage change\n",
    "total_sales_py_var_pct = (total_sales_py_var / total_sales) if total_sales != 0 else 0\n"
   ]
  },
  {
   "cell_type": "code",
   "execution_count": 21,
   "id": "c9e0df89",
   "metadata": {},
   "outputs": [],
   "source": [
    "#Total order quantity\n",
    "total_order_quantity = df['Order Quantity'].sum()\n"
   ]
  },
  {
   "cell_type": "code",
   "execution_count": 22,
   "id": "85e89b28",
   "metadata": {},
   "outputs": [],
   "source": [
    "#Total profit\n",
    "total_profit = df['Profit'].sum()\n"
   ]
  },
  {
   "cell_type": "code",
   "execution_count": 23,
   "id": "e48a2cfd",
   "metadata": {},
   "outputs": [],
   "source": [
    "#Total profit per year\n",
    "total_profit_py = df[df['Year'] == prev_year]['Profit'].sum()\n"
   ]
  },
  {
   "cell_type": "code",
   "execution_count": 24,
   "id": "01a0619d",
   "metadata": {},
   "outputs": [],
   "source": [
    "total_profit_py_var = total_profit - total_profit_py\n"
   ]
  },
  {
   "cell_type": "code",
   "execution_count": 25,
   "id": "b0b2a89a",
   "metadata": {},
   "outputs": [],
   "source": [
    "total_profit_py_var_pct = (total_profit_py_var / total_profit) if total_profit != 0 else 0\n"
   ]
  },
  {
   "cell_type": "code",
   "execution_count": null,
   "id": "5225f920",
   "metadata": {},
   "outputs": [
    {
     "name": "stdout",
     "output_type": "stream",
     "text": [
      "{'Total Sales': np.float64(154573140.60000002), 'Total Sales PY': np.float64(53463661.7), 'Total Sales/PY Var': np.float64(101109478.90000002), 'Total Sales/PY Var %': np.float64(0.6541206221697226), 'Total Order Quantity': np.int64(67579), 'Total Profit': np.float64(57789142.907), 'Total Profit PY': np.float64(19789189.546), 'Total Profit/PY Var': np.float64(37999953.361), 'Total Profit/PY Var %': np.float64(0.6575621552676993)}\n"
     ]
    }
   ],
   "source": [
    "#for easy access\n",
    "measures = {\n",
    "    'Total Sales': total_sales,\n",
    "    'Total Sales PY': total_sales_py,\n",
    "    'Total Sales/PY Var': total_sales_py_var,\n",
    "    'Total Sales/PY Var %': total_sales_py_var_pct,\n",
    "    'Total Order Quantity': total_order_quantity,\n",
    "    'Total Profit': total_profit,\n",
    "    'Total Profit PY': total_profit_py,\n",
    "    'Total Profit/PY Var': total_profit_py_var,\n",
    "    'Total Profit/PY Var %': total_profit_py_var_pct\n",
    "}\n",
    "\n",
    "print(measures)\n"
   ]
  }
 ],
 "metadata": {
  "kernelspec": {
   "display_name": "Python 3",
   "language": "python",
   "name": "python3"
  },
  "language_info": {
   "codemirror_mode": {
    "name": "ipython",
    "version": 3
   },
   "file_extension": ".py",
   "mimetype": "text/x-python",
   "name": "python",
   "nbconvert_exporter": "python",
   "pygments_lexer": "ipython3",
   "version": "3.13.6"
  }
 },
 "nbformat": 4,
 "nbformat_minor": 5
}
