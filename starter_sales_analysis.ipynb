{
 "cells": [
  {
   "cell_type": "markdown",
   "id": "e6b52209",
   "metadata": {},
   "source": [
    "# Sales Analysis — Starter Notebook\n",
    "\n",
    "This **starter notebook** is a ready-to-run template that walks you step-by-step through the project:\n",
    "1. Setup & required packages\n",
    "2. Loading `Sales.xlsx`\n",
    "3. Inspecting the data\n",
    "4. Cleaning skeleton (you edit column names to match your file)\n",
    "5. Creating a Date table\n",
    "6. KPI examples (Total Sales, Profit, YOY comparisons)\n",
    "7. Example visualisations (matplotlib / seaborn)\n",
    "8. Exporting cleaned data & quick Git instructions\n",
    "\n",
    "**How to use**:\n",
    "- Put `Sales.xlsx` in the same project folder (the repository folder you opened in VS Code).\n",
    "- Open this notebook in VS Code (Jupyter extension) and run cells from top to bottom.\n",
    "- Edit column names in the cleaning cell if your Excel uses different headers.\n",
    "- If you prefer Google Colab later, you can upload this notebook there directly.\n",
    "\n",
    "---\n"
   ]
  },
  {
   "cell_type": "markdown",
   "id": "65ed13e1",
   "metadata": {},
   "source": [
    "## Environment & installation (one-time)\n",
    "\n",
    "If you already installed packages, skip this. Otherwise, open a terminal in VS Code and run:\n",
    "\n",
    "```bash\n",
    "# Recommended (run in terminal, NOT a notebook cell)\n",
    "python -m pip install --upgrade pip\n",
    "python -m pip install pandas numpy matplotlib seaborn openpyxl plotly\n",
    "```\n",
    "\n",
    "If your system uses `py` instead of `python` use `py -m pip ...`\n",
    "\n",
    "In VS Code pick the Python interpreter that has these packages (bottom-right corner).\n"
   ]
  },
  {
   "cell_type": "code",
   "execution_count": null,
   "id": "62c53954",
   "metadata": {},
   "outputs": [],
   "source": [
    "# Imports - run this cell\n",
    "import pandas as pd\n",
    "import numpy as np\n",
    "import matplotlib.pyplot as plt\n",
    "import seaborn as sns\n",
    "\n",
    "# Notebook display settings\n",
    "%matplotlib inline\n",
    "pd.options.display.max_columns = 50\n",
    "sns.set_context('talk')\n",
    "plt.rcParams['figure.figsize'] = (10,6)\n",
    "\n",
    "print('libraries imported')"
   ]
  },
  {
   "cell_type": "code",
   "execution_count": null,
   "id": "ad4b67f4",
   "metadata": {},
   "outputs": [],
   "source": [
    "# Load dataset - place 'Sales.xlsx' in the same folder as this notebook\n",
    "# If your file is named differently, change the filename below.\n",
    "try:\n",
    "    df = pd.read_excel('Sales.xlsx')\n",
    "    print('Loaded Sales.xlsx successfully')\n",
    "except FileNotFoundError as e:\n",
    "    print('Sales.xlsx not found - make sure the file is in the same folder as this notebook.')\n",
    "    raise e\n",
    "\n",
    "# Quick preview\n",
    "print('\\nColumns:')\n",
    "print(df.columns.tolist())\n",
    "df.head()"
   ]
  },
  {
   "cell_type": "code",
   "execution_count": null,
   "id": "57bd66ae",
   "metadata": {},
   "outputs": [],
   "source": [
    "# Basic inspection\n",
    "print('Shape:', df.shape)\n",
    "display(df.info())\n",
    "display(df.isna().sum())"
   ]
  },
  {
   "cell_type": "markdown",
   "id": "71bc2e15",
   "metadata": {},
   "source": [
    "## Cleaning skeleton (edit to match your real column names)\n",
    "\n",
    "Below is a safe, editable cleaning template. Look at the printed column list above and adjust names if necessary.\n"
   ]
  },
  {
   "cell_type": "code",
   "execution_count": null,
   "id": "7fb25fa3",
   "metadata": {},
   "outputs": [],
   "source": [
    "# Copy and adapt this cleaning block to your dataset.\n",
    "df = df.copy()\n",
    "\n",
    "# Normalize column names (quick tidy)\n",
    "df.columns = (df.columns\n",
    "                  .str.strip()\n",
    "                  .str.replace(' ', '_')\n",
    "                  .str.replace('\\n','_')\n",
    "                  .str.replace('(', '')\n",
    "                  .str.replace(')', ''))\n",
    "\n",
    "print('Normalized column names:')\n",
    "print(df.columns.tolist())\n",
    "\n",
    "# Example: convert Date and numeric columns\n",
    "# Change these names if your file uses different headers (e.g., 'Order Date' or 'Order_Date')\n",
    "date_candidates = [c for c in df.columns if 'date' in c.lower()]\n",
    "print('Date-like columns detected:', date_candidates)\n",
    "\n",
    "if date_candidates:\n",
    "    date_col = date_candidates[0]\n",
    "    print('Using', date_col, 'as the Date column')\n",
    "    df[date_col] = pd.to_datetime(df[date_col], errors='coerce')\n",
    "    df.rename(columns={date_col: 'Date'}, inplace=True)\n",
    "else:\n",
    "    print('No Date-like column automatically detected. You must set a Date column manually.')\n",
    "\n",
    "# Numeric conversions - adapt names as needed\n",
    "for col in ['Sales', 'Profit', 'Cost', 'Order_Quantity', 'Order_Quantity.1', 'OrderQuantity']:\n",
    "    if col in df.columns:\n",
    "        df[col] = pd.to_numeric(df[col], errors='coerce')\n",
    "\n",
    "# Remove exact duplicates\n",
    "before = df.shape[0]\n",
    "df.drop_duplicates(inplace=True)\n",
    "after = df.shape[0]\n",
    "print(f'Removed {before-after} exact duplicate rows.')\n",
    "\n",
    "# Show rows with missing critical values (Date or Sales)\n",
    "display(df[df['Date'].isna()].head())\n",
    "display(df[df['Sales'].isna()].head())\n",
    "\n",
    "# Show cleaned head\n",
    "df.head()"
   ]
  },
  {
   "cell_type": "markdown",
   "id": "cffe2d28",
   "metadata": {},
   "source": [
    "## Create Date table (calendar)"
   ]
  },
  {
   "cell_type": "code",
   "execution_count": null,
   "id": "2814c3b3",
   "metadata": {},
   "outputs": [],
   "source": [
    "# Create a Date table covering the full range in the data\n",
    "min_date = df['Date'].min().normalize()\n",
    "max_date = df['Date'].max().normalize()\n",
    "print('Date range in data:', min_date, 'to', max_date)\n",
    "\n",
    "date_range = pd.date_range(start=min_date, end=max_date, freq='D')\n",
    "dates = pd.DataFrame({'Date': date_range})\n",
    "dates['Year'] = dates['Date'].dt.year\n",
    "dates['Month'] = dates['Date'].dt.month_name()\n",
    "dates['MonthNum'] = dates['Date'].dt.month\n",
    "dates['Quarter'] = dates['Date'].dt.quarter\n",
    "dates['Weekday'] = dates['Date'].dt.day_name()\n",
    "\n",
    "dates.head()"
   ]
  },
  {
   "cell_type": "markdown",
   "id": "581ae542",
   "metadata": {},
   "source": [
    "## KPI examples (Total Sales, Profit, YOY comparison)\n",
    "\n",
    "The notebook below shows a simple way to compute totals and previous-year (PY) values.\n"
   ]
  },
  {
   "cell_type": "code",
   "execution_count": null,
   "id": "9c06c580",
   "metadata": {},
   "outputs": [],
   "source": [
    "# Safe check that required columns exist\n",
    "for col in ['Date','Sales','Profit']:\n",
    "    if col not in df.columns:\n",
    "        print(f'Warning: expected column \"{col}\" not found. Please adapt the cleaning step above.')\n",
    "\n",
    "# Add Year column\n",
    "df['Year'] = df['Date'].dt.year\n",
    "\n",
    "# Total Sales by Year with previous year comparison\n",
    "sales_by_year = df.groupby('Year')['Sales'].sum().reset_index().sort_values('Year')\n",
    "sales_by_year['Sales_PY'] = sales_by_year['Sales'].shift(1)\n",
    "sales_by_year['Delta'] = sales_by_year['Sales'] - sales_by_year['Sales_PY']\n",
    "sales_by_year['Delta_pct'] = sales_by_year['Delta'] / sales_by_year['Sales']\n",
    "sales_by_year.style.format({'Sales':'{:.2f}','Sales_PY':'{:.2f}','Delta':'{:.2f}','Delta_pct':'{:.2%}'})"
   ]
  },
  {
   "cell_type": "markdown",
   "id": "91592892",
   "metadata": {},
   "source": [
    "## Example visualisations\n",
    "\n",
    "Below are a couple of example plots you can run and adapt. They assume columns like `Product`, `City`, `Channel` may exist in your dataset.\n"
   ]
  },
  {
   "cell_type": "code",
   "execution_count": null,
   "id": "badf7d1b",
   "metadata": {},
   "outputs": [],
   "source": [
    "# Sales by month (monthly trend) - example\n",
    "# Ensure we have a Date column and Sales numeric\n",
    "if 'Date' in df.columns and 'Sales' in df.columns:\n",
    "    monthly = df.set_index('Date').resample('M')['Sales'].sum().reset_index()\n",
    "    monthly['Month'] = monthly['Date'].dt.to_period('M').astype(str)\n",
    "    plt.figure(figsize=(12,5))\n",
    "    sns.lineplot(data=monthly, x='Month', y='Sales', marker='o')\n",
    "    plt.xticks(rotation=45)\n",
    "    plt.title('Monthly Sales Trend')\n",
    "    plt.tight_layout()\n",
    "    plt.show()\n",
    "else:\n",
    "    print('Date or Sales column missing - cannot plot monthly trend.')"
   ]
  },
  {
   "cell_type": "code",
   "execution_count": null,
   "id": "d2cf954c",
   "metadata": {},
   "outputs": [],
   "source": [
    "# Top 5 cities by Sales - example\n",
    "if 'City' in df.columns and 'Sales' in df.columns:\n",
    "    top_cities = df.groupby('City')['Sales'].sum().nlargest(5).reset_index()\n",
    "    sns.barplot(data=top_cities, x='Sales', y='City')\n",
    "    plt.title('Top 5 Cities by Sales')\n",
    "    plt.show()\n",
    "else:\n",
    "    print('City or Sales column not found - skip top cities.')"
   ]
  },
  {
   "cell_type": "markdown",
   "id": "b086fc52",
   "metadata": {},
   "source": [
    "## Export cleaned data & Git instructions\n",
    "\n",
    "When you are happy with cleaning, save the cleaned CSV and add both the notebook and CSV to git:\n",
    "\n",
    "```bash\n",
    "# In your terminal inside the project folder:\n",
    "git add starter_sales_analysis.ipynb cleaned_sales.csv\n",
    "git commit -m \"Add starter notebook and cleaned data\"\n",
    "git push origin main\n",
    "```\n",
    "\n",
    "If you want, I can prepare a commit message and the exact files to add.\n"
   ]
  },
  {
   "cell_type": "code",
   "execution_count": null,
   "id": "8e6d2a84",
   "metadata": {},
   "outputs": [],
   "source": [
    "# Export cleaned CSV (optional)\n",
    "try:\n",
    "    df.to_csv('cleaned_sales.csv', index=False)\n",
    "    print('Exported cleaned_sales.csv')\n",
    "except Exception as e:\n",
    "    print('Could not export cleaned_sales.csv:', e)"
   ]
  }
 ],
 "metadata": {},
 "nbformat": 4,
 "nbformat_minor": 5
}
